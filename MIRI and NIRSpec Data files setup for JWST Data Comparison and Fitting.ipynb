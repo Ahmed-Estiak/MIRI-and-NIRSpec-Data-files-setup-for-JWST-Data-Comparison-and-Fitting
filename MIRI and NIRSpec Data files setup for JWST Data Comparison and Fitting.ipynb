{
  "nbformat": 4,
  "nbformat_minor": 0,
  "metadata": {
    "colab": {
      "provenance": [],
      "toc_visible": true
    },
    "kernelspec": {
      "name": "python3",
      "display_name": "Python 3"
    },
    "language_info": {
      "name": "python"
    }
  },
  "cells": [
    {
      "cell_type": "markdown",
      "source": [
        "# SSW2023 MIRI and NIRSpec Data files setup for JWST Data Comparison and Fitting\n",
        "\n",
        "## Author: Taylor Bell (Bay Area Environmental Research Institutite)\n",
        "\n",
        "This notebook downloads and installs the needed files for JWST Data Comparison and Fitting workshops (Hands-On Sessions I and II).  This notebook only needs to be run **once**."
      ],
      "metadata": {
        "id": "YfbDHTIO2M7x"
      }
    },
    {
      "cell_type": "markdown",
      "source": [
        "## Google Colab Usage\n",
        "\n",
        "*Please read (don't just hit run) the information given above each code cell as there are separate install cells for Colab*\n",
        "&#128992;\n",
        "*and running Python on your computer*\n",
        "&#128309;.\n",
        "\n",
        "**Confirm login account**\n",
        "* Please make sure to be logged in with the Google account you want to use for the exercises before running the code cells below. You can check by clicking the circular account icon in the top right corner of the colab notebook.\n",
        "\n",
        "**Working directory**\n",
        "* Note: The data will be installed in a directory called \"SSW2023\" in your Google drive. This directory will be created if it does not exist.\n",
        "\n",
        "**Running cells**\n",
        "* Run cells individually by clicking on the triangle on each cell\n",
        "\n",
        "**To Restart runtime**\n",
        "*   Click on Runtime menu item\n",
        "*   Select Restart runtime\n",
        "*   Select Run code cells individually from the top\n",
        "\n",
        "**To Recreate runtime**\n",
        "*   Click on Runtime menu item\n",
        "*   Select Disconnect and Delete runtime\n",
        "*   Select Run code cells individually from the top\n",
        "\n",
        "**To Exit:**\n",
        "*   Close the browser window"
      ],
      "metadata": {
        "id": "9J_tpZzzrf43"
      }
    },
    {
      "cell_type": "markdown",
      "source": [
        "## &#128992; Running on Colab:\n",
        "You need about **3.4**  GB of free space for the input data on your Google Drive. Since you will download the compressed file to your drive, unzip and then delete it, about **3.4** GB of free space are required to complete the download process and you will be left with  about **1.7** GB afterwards after you empty the trash. There is an additional **.6** GB neeeded for all the outputs from running the exercises for hands-on sessions I & II. If your Drive is full and you cannot empty it sufficiently: please create a new, dedicated Google account for the Sagan Summer Workshop which will have 15 GB of free space. If you have enough free space and are logged into the account that you want to use, please carry out this command to connect to your Google Drive.\n",
        "\n",
        "&#128992; **Run this cell if you are running on Colab**"
      ],
      "metadata": {
        "id": "UL4K4Yy0wAf-"
      }
    },
    {
      "cell_type": "code",
      "source": [
        "from google.colab import drive\n",
        "drive.mount(\"/content/drive\")"
      ],
      "metadata": {
        "id": "3UDKgAxAFaIC",
        "colab": {
          "base_uri": "https://localhost:8080/"
        },
        "outputId": "7042f714-fb2f-4039-ccfd-5d98e97c1879"
      },
      "execution_count": null,
      "outputs": [
        {
          "output_type": "stream",
          "name": "stdout",
          "text": [
            "Mounted at /content/drive\n"
          ]
        }
      ]
    },
    {
      "cell_type": "markdown",
      "source": [
        "The commands below defins the download location, downloads the data, unzips it, and puts it into a default location on your Google Drive. The compressed file will then be deleted.\n",
        "\n",
        "\"SSW2023\" is the default and we suggest you keep this value as the rest of the Hands-On I and II exercises will look for this top level directory.\n",
        "\n",
        "&#128992; **Run the following 3 cells if you are running on Colab**\n",
        "\n",
        "**Please let the code cells finish before proceeding to the cells further below.**"
      ],
      "metadata": {
        "id": "wCycIurSFjpg"
      }
    },
    {
      "cell_type": "code",
      "source": [
        "# If you update the directory in the box on the right, re-run this cell\n",
        "ssw_dir = 'SSW2023' #@param {type:\"string\"}"
      ],
      "metadata": {
        "id": "4lBFBHqfA1YW"
      },
      "execution_count": null,
      "outputs": []
    },
    {
      "cell_type": "code",
      "source": [
        "# Create the SSW directory in drive and download MIRI and NIRSpec data\n",
        "import os\n",
        "\n",
        "# Google top level drive dir\n",
        "drive_dir = \"/content/drive/MyDrive/\"\n",
        "\n",
        "# ssw directory path\n",
        "ssw_path = os.path.join(drive_dir, ssw_dir)\n",
        "\n",
        "# Create the ssw_path directory\n",
        "try:\n",
        "    os.makedirs(ssw_path, exist_ok = True)\n",
        "    print(\"Directory '%s' created successfully\" %ssw_path)\n",
        "except OSError as error:\n",
        "    print(\"Directory '%s' can not be created\")\n",
        "\n",
        "# Change to the ssw_path\n",
        "os.chdir(ssw_path)\n",
        "\n",
        "# Download MIRI data\n",
        "!wget -O MIRI.tar.gz https://catcopy.ipac.caltech.edu/ssw/hands-on/MIRI.tar.gz\n",
        "!tar xf MIRI.tar.gz && rm MIRI.tar.gz\n",
        "\n",
        "# Download NIRSpec data\n",
        "!wget -O NIRSpec.tar.gz https://catcopy.ipac.caltech.edu/ssw/hands-on/NIRSpec.tar.gz\n",
        "!tar xf NIRSpec.tar.gz && rm NIRSpec.tar.gz\n",
        "\n",
        "# Download NIRSpec auxillary reference files\n",
        "!wget -O referenceFiles.tar.gz https://catcopy.ipac.caltech.edu/ssw/hands-on/referenceFiles.tar.gz\n",
        "!tar xf referenceFiles.tar.gz && rm referenceFiles.tar.gz\n",
        "\n",
        "# Download WASP39b_NIRSpec data\n",
        "!wget -O WASP39b_NIRSpec.tar.gz https://catcopy.ipac.caltech.edu/ssw/hands-on/WASP39b_NIRSpec.tar.gz\n",
        "!tar xf WASP39b_NIRSpec.tar.gz && rm WASP39b_NIRSpec.tar.gz"
      ],
      "metadata": {
        "id": "y4q_0aObF2Ly",
        "colab": {
          "base_uri": "https://localhost:8080/"
        },
        "outputId": "7caf6525-1594-416d-88bf-3e8c9548632e"
      },
      "execution_count": null,
      "outputs": [
        {
          "output_type": "stream",
          "name": "stdout",
          "text": [
            "Directory '/content/drive/MyDrive/SSW2023' created successfully\n",
            "--2023-07-24 16:25:52--  https://catcopy.ipac.caltech.edu/ssw/hands-on/MIRI.tar.gz\n",
            "Resolving catcopy.ipac.caltech.edu (catcopy.ipac.caltech.edu)... 134.4.25.122\n",
            "Connecting to catcopy.ipac.caltech.edu (catcopy.ipac.caltech.edu)|134.4.25.122|:443... connected.\n",
            "HTTP request sent, awaiting response... 200 OK\n",
            "Length: 660515164 (630M) [application/x-gzip]\n",
            "Saving to: ‘MIRI.tar.gz’\n",
            "\n",
            "MIRI.tar.gz         100%[===================>] 629.92M  22.6MB/s    in 36s     \n",
            "\n",
            "2023-07-24 16:26:29 (17.6 MB/s) - ‘MIRI.tar.gz’ saved [660515164/660515164]\n",
            "\n",
            "--2023-07-24 16:26:51--  https://catcopy.ipac.caltech.edu/ssw/hands-on/NIRSpec.tar.gz\n",
            "Resolving catcopy.ipac.caltech.edu (catcopy.ipac.caltech.edu)... 134.4.25.122\n",
            "Connecting to catcopy.ipac.caltech.edu (catcopy.ipac.caltech.edu)|134.4.25.122|:443... connected.\n",
            "HTTP request sent, awaiting response... 200 OK\n",
            "Length: 416760244 (397M) [application/x-gzip]\n",
            "Saving to: ‘NIRSpec.tar.gz’\n",
            "\n",
            "NIRSpec.tar.gz      100%[===================>] 397.45M  22.8MB/s    in 30s     \n",
            "\n",
            "2023-07-24 16:27:22 (13.2 MB/s) - ‘NIRSpec.tar.gz’ saved [416760244/416760244]\n",
            "\n",
            "--2023-07-24 16:27:40--  https://catcopy.ipac.caltech.edu/ssw/hands-on/referenceFiles.tar.gz\n",
            "Resolving catcopy.ipac.caltech.edu (catcopy.ipac.caltech.edu)... 134.4.25.122\n",
            "Connecting to catcopy.ipac.caltech.edu (catcopy.ipac.caltech.edu)|134.4.25.122|:443... connected.\n",
            "HTTP request sent, awaiting response... 200 OK\n",
            "Length: 1725927 (1.6M) [application/x-gzip]\n",
            "Saving to: ‘referenceFiles.tar.gz’\n",
            "\n",
            "referenceFiles.tar. 100%[===================>]   1.65M  1.78MB/s    in 0.9s    \n",
            "\n",
            "2023-07-24 16:27:42 (1.78 MB/s) - ‘referenceFiles.tar.gz’ saved [1725927/1725927]\n",
            "\n",
            "--2023-07-24 16:27:42--  https://catcopy.ipac.caltech.edu/ssw/hands-on/WASP39b_NIRSpec.tar.gz\n",
            "Resolving catcopy.ipac.caltech.edu (catcopy.ipac.caltech.edu)... 134.4.25.122\n",
            "Connecting to catcopy.ipac.caltech.edu (catcopy.ipac.caltech.edu)|134.4.25.122|:443... connected.\n",
            "HTTP request sent, awaiting response... 200 OK\n",
            "Length: 59742486 (57M) [application/x-gzip]\n",
            "Saving to: ‘WASP39b_NIRSpec.tar.gz’\n",
            "\n",
            "WASP39b_NIRSpec.tar 100%[===================>]  56.97M  12.7MB/s    in 4.8s    \n",
            "\n",
            "2023-07-24 16:27:48 (12.0 MB/s) - ‘WASP39b_NIRSpec.tar.gz’ saved [59742486/59742486]\n",
            "\n"
          ]
        }
      ]
    },
    {
      "cell_type": "code",
      "source": [
        "# Verify directories\n",
        "# Change to the top level SSW directory\n",
        "os.chdir (ssw_path)\n",
        "def check_dir(dir):\n",
        "  if (os.path.isdir(dir)):\n",
        "    print(\"Directory '%s' exists\" %dir)\n",
        "  else:\n",
        "    print(\"Directory '%s' does not exist, contact the Sagan Workshop for help: sagan_workshop@ipac.caltech.edu\" %dir)\n",
        "\n",
        "check_dir('MIRI')\n",
        "check_dir('NIRSpec')\n",
        "check_dir('referenceFiles')\n",
        "check_dir('WASP39b_NIRSpec')"
      ],
      "metadata": {
        "id": "6-8rdwRB7Jo5",
        "colab": {
          "base_uri": "https://localhost:8080/"
        },
        "outputId": "1ae24ad5-5ede-474c-f768-d0d9f09c971a"
      },
      "execution_count": null,
      "outputs": [
        {
          "output_type": "stream",
          "name": "stdout",
          "text": [
            "Directory 'MIRI' exists\n",
            "Directory 'NIRSpec' exists\n",
            "Directory 'referenceFiles' exists\n",
            "Directory 'WASP39b_NIRSpec' exists\n"
          ]
        }
      ]
    },
    {
      "cell_type": "markdown",
      "source": [
        "## &#128309;  Running the Jupyter notebook on your computer:\n",
        "\n",
        "In the code cell below, please specify path where you want to put the hands-on session input data.\n",
        "\n",
        "&#128309; **Run this cell if running on your computer (not Colab!)**"
      ],
      "metadata": {
        "id": "HptfdYpnwGnr"
      }
    },
    {
      "cell_type": "code",
      "source": [
        "import os\n",
        "absolute_path_to_the_data_folder_on_your_machine = '' # Please complete!\n",
        "os.chdir(absolute_path_to_the_data_folder_on_your_machine)"
      ],
      "metadata": {
        "id": "-gvnjXWWyFzy"
      },
      "execution_count": null,
      "outputs": []
    },
    {
      "cell_type": "markdown",
      "source": [
        "The code cell below downloads the data and unzips it. This requires wget and tar to be installed, the following should then work for Mac and Linux users. It uses a .tar.gz file.\n",
        "\n",
        "If you plan to run on Windows, you can download a zipped version of the input data by appending \".zip\" instead of \"tar.gz\" to the urls and files below and you may need to append \"--no-certificate-check\" to the wget commands.\n",
        "\n",
        "&#128309; **Run these 2 cells if running on your computer (not Colab!)**"
      ],
      "metadata": {
        "id": "aUi-c9pjyGzI"
      }
    },
    {
      "cell_type": "code",
      "source": [
        "# Download MIRI data\n",
        "!wget -O MIRI.tar.gz https://catcopy.ipac.caltech.edu/ssw/hands-on/MIRI.tar.gz\n",
        "!tar xf MIRI.tar.gz && rm MIRI.tar.gz\n",
        "\n",
        "# Download NIRSpec data\n",
        "!wget -O NIRSpec.tar.gz https://catcopy.ipac.caltech.edu/ssw/hands-on/NIRSpec.tar.gz\n",
        "!tar xf NIRSpec.tar.gz && rm NIRSpec.tar.gz\n",
        "\n",
        "# Download NIRSpec auxillary reference files\n",
        "!wget -O referenceFiles.tar.gz https://catcopy.ipac.caltech.edu/ssw/hands-on/referenceFiles.tar.gz\n",
        "!tar xf referenceFiles.tar.gz && rm referenceFiles.tar.gz\n",
        "\n",
        "# Download WASP39b_NIRSpec data\n",
        "!wget -O WASP39b_NIRSpec.tar.gz https://catcopy.ipac.caltech.edu/ssw/hands-on/WASP39b_NIRSpec.tar.gz\n",
        "!tar xf WASP39b_NIRSpec.tar.gz && rm WASP39b_NIRSpec.tar.gz"
      ],
      "metadata": {
        "id": "4C9PpbcOxYb6"
      },
      "execution_count": null,
      "outputs": []
    },
    {
      "cell_type": "code",
      "source": [
        "def check_dir(dir):\n",
        "  if (os.path.isdir(dir)):\n",
        "    print(\"Directory '%s' exists\" %dir)\n",
        "  else:\n",
        "    print(\"Directory '%s' does not exist, contact the Sagan Workshop for help: sagan_workshop@ipac.caltech.edu\" %dir)\n",
        "\n",
        "check_dir('MIRI')\n",
        "check_dir('NIRSpec')\n",
        "check_dir('referenceFiles')\n",
        "check_dir('Wasp39B_NIRSpec')"
      ],
      "metadata": {
        "id": "CbT_M4lF_bWr"
      },
      "execution_count": null,
      "outputs": []
    },
    {
      "cell_type": "markdown",
      "source": [
        "# Hands-on Sessions I and II Notebooks\n",
        "\n",
        "[SSW2023_Workshop1_MIRI_Handout.ipynb](https://colab.research.google.com/drive/1ewVInhf3LHLwG0-WjyFign7lC4qubpVa?usp=sharing)\n",
        "\n",
        "[SSW2023_Workshop1_NIRSpec_Handout.ipynb](https://colab.research.google.com/drive/19jg9c6oPMfYsh08sQP2ORQCgR4UiG5UJ?usp=sharing)\n",
        "\n",
        "[SSW2023_Workshop2_MIRI_Handout.ipynb](https://colab.research.google.com/drive/1ahrgOdehbThq-dZv2dwl7hZ8i0EOpdT4?usp=sharing)\n",
        "\n",
        "[SSW2023_Workshop2_NIRSpec_Handout.ipynb](https://colab.research.google.com/drive/1-RU5ODEJscD9y45jA69YD9b_Xifs7imO?usp=sharing)"
      ],
      "metadata": {
        "id": "iFJLKfZzZTXz"
      }
    }
  ]
}